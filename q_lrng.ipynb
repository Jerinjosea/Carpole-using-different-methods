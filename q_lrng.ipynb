{
  "nbformat": 4,
  "nbformat_minor": 0,
  "metadata": {
    "colab": {
      "name": "q_lrng.ipynb",
      "provenance": [],
      "collapsed_sections": [],
      "include_colab_link": true
    },
    "kernelspec": {
      "name": "python3",
      "display_name": "Python 3"
    },
    "accelerator": "GPU"
  },
  "cells": [
    {
      "cell_type": "markdown",
      "metadata": {
        "id": "view-in-github",
        "colab_type": "text"
      },
      "source": [
        "<a href=\"https://colab.research.google.com/github/Jerinjosea/Carpole-using-different-methods/blob/master/q_lrng.ipynb\" target=\"_parent\"><img src=\"https://colab.research.google.com/assets/colab-badge.svg\" alt=\"Open In Colab\"/></a>"
      ]
    },
    {
      "cell_type": "markdown",
      "metadata": {
        "id": "f5Whv97cIjCF",
        "colab_type": "text"
      },
      "source": [
        "# Q-learning\n",
        "q-learning to solve mountaincar -v0"
      ]
    },
    {
      "cell_type": "code",
      "metadata": {
        "id": "smhw1uXztwiu",
        "colab_type": "code",
        "colab": {
          "base_uri": "https://localhost:8080/",
          "height": 1000
        },
        "outputId": "213da53d-99c6-4e57-da48-9bd6a573703a"
      },
      "source": [
        "import gym\n",
        "import numpy as np\n",
        "import matplotlib.pyplot as plt\n",
        " \n",
        "env = gym.make('MountainCar-v0')\n",
        "state = env.reset()\n",
        " \n",
        "LEARNING_RATE = 0.01\n",
        "DISCOUNT = 0.95\n",
        "EPISODES = 25000\n",
        "SHOW_EVERY = 2000\n",
        "STATS_EVERY = 500\n",
        " \n",
        "epsilon = 0.5\n",
        "START_EPSILON_DECAYING = 1\n",
        "END_EPSILON_DECAYING = EPISODES//2\n",
        " \n",
        "epsilon_decay_value = epsilon/(END_EPSILON_DECAYING - START_EPSILON_DECAYING)\n",
        " \n",
        "DISCRETE_OS_SIZE = [20]*len(env.observation_space.high)\n",
        "discrete_os_win_size = (env.observation_space.high - env.observation_space.low)/DISCRETE_OS_SIZE\n",
        " \n",
        "q_table = np.random.uniform(low=-2, high=0, size=(DISCRETE_OS_SIZE + [env.action_space.n]))\n",
        " \n",
        "ep_rewards = []\n",
        "aggr_ep_rewards = {'ep': [], 'avg': [], 'min': [], 'max': []}\n",
        " \n",
        " \n",
        "def get_discrete_state(state):\n",
        "    discrete_state = (state - env.observation_space.low)/discrete_os_win_size\n",
        "    return tuple(discrete_state.astype(np.int))\n",
        " \n",
        "for episode in range(EPISODES):\n",
        "    episode_reward = 0\n",
        "    discrete_state = get_discrete_state(env.reset())\n",
        "    done = False\n",
        " \n",
        "    if (episode % SHOW_EVERY) == 0:\n",
        "        render = False\n",
        "        print(episode)\n",
        "    else:\n",
        "        render = False\n",
        " \n",
        "    while not done:\n",
        "        if np.random.random() > epsilon:\n",
        "            action = np.argmax(q_table[discrete_state])\n",
        "        else:\n",
        "            action = np.random.randint(0, env.action_space.n)\n",
        " \n",
        "        new_state , reward, done, _ = env.step(action)\n",
        "        episode_reward += reward\n",
        "        new_discrete_state = get_discrete_state(new_state)\n",
        " \n",
        "        if render:\n",
        "            env.render()\n",
        " \n",
        "        if not done:\n",
        "            max_future_q = np.max(q_table[new_discrete_state])\n",
        "            current_q = q_table[discrete_state + (action,)]\n",
        "            #q learning formula\n",
        "            new_q = (1 - LEARNING_RATE)*current_q + LEARNING_RATE * (reward + DISCOUNT + max_future_q)\n",
        "            q_table[discrete_state + (action, )] = new_q\n",
        " \n",
        "        elif new_state[0] >= env.goal_position:\n",
        "            q_table[discrete_state + (action, )] = reward\n",
        " \n",
        "        discrete_state = new_discrete_state\n",
        " \n",
        "    if END_EPSILON_DECAYING >= episode >= START_EPSILON_DECAYING:\n",
        "        epsilon -= epsilon_decay_value\n",
        " \n",
        "    ep_rewards.append(episode_reward)\n",
        " \n",
        "    if not episode % STATS_EVERY:\n",
        "        average_reward = sum(ep_rewards[-STATS_EVERY:])/len(ep_rewards[-STATS_EVERY:])\n",
        "        aggr_ep_rewards['ep'].append(episode)\n",
        "        aggr_ep_rewards['avg'].append(average_reward)\n",
        "        aggr_ep_rewards['max'].append(max(ep_rewards[-STATS_EVERY:]))\n",
        "        aggr_ep_rewards['min'].append(min(ep_rewards[-STATS_EVERY:]))\n",
        " \n",
        "        print(f'Episode: {episode:>5d}, average reward: {average_reward:>4.1f}, current epsilon: {epsilon:>1.2f}')\n",
        " \n",
        "env.close()"
      ],
      "execution_count": null,
      "outputs": [
        {
          "output_type": "stream",
          "text": [
            "0\n",
            "Episode:     0, average reward: -200.0, current epsilon: 0.50\n",
            "Episode:   500, average reward: -200.0, current epsilon: 0.48\n",
            "Episode:  1000, average reward: -200.0, current epsilon: 0.46\n",
            "Episode:  1500, average reward: -200.0, current epsilon: 0.44\n",
            "2000\n",
            "Episode:  2000, average reward: -200.0, current epsilon: 0.42\n",
            "Episode:  2500, average reward: -200.0, current epsilon: 0.40\n",
            "Episode:  3000, average reward: -200.0, current epsilon: 0.38\n",
            "Episode:  3500, average reward: -200.0, current epsilon: 0.36\n",
            "4000\n",
            "Episode:  4000, average reward: -200.0, current epsilon: 0.34\n",
            "Episode:  4500, average reward: -200.0, current epsilon: 0.32\n",
            "Episode:  5000, average reward: -200.0, current epsilon: 0.30\n",
            "Episode:  5500, average reward: -200.0, current epsilon: 0.28\n",
            "6000\n",
            "Episode:  6000, average reward: -200.0, current epsilon: 0.26\n",
            "Episode:  6500, average reward: -200.0, current epsilon: 0.24\n",
            "Episode:  7000, average reward: -200.0, current epsilon: 0.22\n",
            "Episode:  7500, average reward: -199.9, current epsilon: 0.20\n",
            "8000\n",
            "Episode:  8000, average reward: -199.9, current epsilon: 0.18\n",
            "Episode:  8500, average reward: -199.4, current epsilon: 0.16\n",
            "Episode:  9000, average reward: -198.7, current epsilon: 0.14\n",
            "Episode:  9500, average reward: -199.9, current epsilon: 0.12\n",
            "10000\n",
            "Episode: 10000, average reward: -188.9, current epsilon: 0.10\n",
            "Episode: 10500, average reward: -198.3, current epsilon: 0.08\n",
            "Episode: 11000, average reward: -197.1, current epsilon: 0.06\n",
            "Episode: 11500, average reward: -193.7, current epsilon: 0.04\n",
            "12000\n",
            "Episode: 12000, average reward: -197.4, current epsilon: 0.02\n",
            "Episode: 12500, average reward: -199.7, current epsilon: -0.00\n",
            "Episode: 13000, average reward: -189.3, current epsilon: -0.00\n",
            "Episode: 13500, average reward: -183.7, current epsilon: -0.00\n",
            "14000\n",
            "Episode: 14000, average reward: -197.1, current epsilon: -0.00\n",
            "Episode: 14500, average reward: -199.5, current epsilon: -0.00\n",
            "Episode: 15000, average reward: -189.1, current epsilon: -0.00\n",
            "Episode: 15500, average reward: -182.3, current epsilon: -0.00\n",
            "16000\n",
            "Episode: 16000, average reward: -195.5, current epsilon: -0.00\n",
            "Episode: 16500, average reward: -184.9, current epsilon: -0.00\n",
            "Episode: 17000, average reward: -174.8, current epsilon: -0.00\n",
            "Episode: 17500, average reward: -173.4, current epsilon: -0.00\n",
            "18000\n",
            "Episode: 18000, average reward: -160.9, current epsilon: -0.00\n",
            "Episode: 18500, average reward: -175.7, current epsilon: -0.00\n",
            "Episode: 19000, average reward: -171.4, current epsilon: -0.00\n",
            "Episode: 19500, average reward: -177.6, current epsilon: -0.00\n",
            "20000\n",
            "Episode: 20000, average reward: -178.5, current epsilon: -0.00\n",
            "Episode: 20500, average reward: -170.6, current epsilon: -0.00\n",
            "Episode: 21000, average reward: -167.5, current epsilon: -0.00\n",
            "Episode: 21500, average reward: -163.8, current epsilon: -0.00\n",
            "22000\n",
            "Episode: 22000, average reward: -165.4, current epsilon: -0.00\n",
            "Episode: 22500, average reward: -155.6, current epsilon: -0.00\n",
            "Episode: 23000, average reward: -164.3, current epsilon: -0.00\n",
            "Episode: 23500, average reward: -170.1, current epsilon: -0.00\n",
            "24000\n",
            "Episode: 24000, average reward: -145.1, current epsilon: -0.00\n",
            "Episode: 24500, average reward: -141.7, current epsilon: -0.00\n"
          ],
          "name": "stdout"
        }
      ]
    },
    {
      "cell_type": "code",
      "metadata": {
        "id": "Yf_KsHotupTE",
        "colab_type": "code",
        "colab": {
          "base_uri": "https://localhost:8080/",
          "height": 265
        },
        "outputId": "7cbae44b-97ad-483b-e65a-83685d376dac"
      },
      "source": [
        "plt.plot(aggr_ep_rewards['ep'], aggr_ep_rewards['avg'], label='avg')\n",
        "plt.plot(aggr_ep_rewards['ep'], aggr_ep_rewards['min'], label='min')\n",
        "plt.plot(aggr_ep_rewards['ep'], aggr_ep_rewards['max'], label='max')\n",
        "plt.legend(loc = 4)\n",
        "plt.show()"
      ],
      "execution_count": null,
      "outputs": [
        {
          "output_type": "display_data",
          "data": {
            "image/png": "[encoded data removed]",
            "text/plain": [
              "<Figure size 432x288 with 1 Axes>"
            ]
          },
          "metadata": {
            "tags": [],
            "needs_background": "light"
          }
        }
      ]
    },
    {
      "cell_type": "markdown",
      "metadata": {
        "id": "wTit0Tq2I5EF",
        "colab_type": "text"
      },
      "source": [
        "# DDQN"
      ]
    },
    {
      "cell_type": "code",
      "metadata": {
        "id": "kCZAgjFz380o",
        "colab_type": "code",
        "colab": {
          "base_uri": "https://localhost:8080/",
          "height": 34
        },
        "outputId": "28963465-e320-41d6-89f4-59f9a7349b18"
      },
      "source": [
        "from google.colab import drive\n",
        "drive.mount('/gdrive')"
      ],
      "execution_count": null,
      "outputs": [
        {
          "output_type": "stream",
          "text": [
            "Mounted at /gdrive\n"
          ],
          "name": "stdout"
        }
      ]
    },
    {
      "cell_type": "markdown",
      "metadata": {
        "id": "oizBMbnfJEr7",
        "colab_type": "text"
      },
      "source": [
        "**Agent**"
      ]
    },
    {
      "cell_type": "code",
      "metadata": {
        "id": "UnqmDzsnaeY6",
        "colab_type": "code",
        "colab": {}
      },
      "source": [
        "from keras.models import Sequential, load_model\n",
        "from keras.layers import Dense, Dropout\n",
        "from keras.optimizers import Adam\n",
        "from collections import deque\n",
        "import random\n",
        "import numpy as np\n",
        " \n",
        "class DQNAgent:\n",
        "  def __init__(self, env):\n",
        "    self.env     = env\n",
        "    self.memory  = deque(maxlen=2000)\n",
        "        \n",
        "    self.discount = 0.99\n",
        "    self.epsilon = 1\n",
        "    self.epsilon_min = 0\n",
        "    self.epsilon_decay = 0.995\n",
        "    self.learning_rate = 1e-3\n",
        "    self.tau = 0.05\n",
        "    self.batch_size = 32\n",
        " \n",
        "    self.model = self.create_model()\n",
        "    self.target_model = self.create_model()\n",
        " \n",
        "  def create_model(self):\n",
        "    model = Sequential()\n",
        "    state_shape = self.env.observation_space.shape\n",
        "    model.add(Dense(32, input_dim=state_shape[0], activation=\"relu\"))\n",
        "    model.add(Dense(64, activation=\"relu\"))\n",
        "    model.add(Dense(32, activation=\"relu\"))\n",
        "    model.add(Dense(self.env.action_space.n))\n",
        "    model.compile(loss=\"mse\",optimizer=Adam(lr=self.learning_rate))\n",
        "    return model\n",
        " \n",
        "  def remember(self, state, action, reward, new_state, done):\n",
        "    self.memory.append([state, action, reward, new_state, done])\n",
        " \n",
        "  def replay(self):\n",
        "    if len(self.memory) < self.batch_size:\n",
        "      return\n",
        "    \n",
        "    samples = random.sample(self.memory, self.batch_size)\n",
        "    for sample in samples:\n",
        "      state, action, reward, new_state, done = sample\n",
        "      target = self.target_model.predict(state)\n",
        "      if done:\n",
        "        target[0][action] = reward\n",
        "      else:\n",
        "        Q_future = max(self.target_model.predict(new_state)[0])\n",
        "        target[0][action] = reward + Q_future * self.discount\n",
        "      self.model.fit(state, target, epochs = 1, verbose=0)\n",
        " \n",
        "  def target_train(self):\n",
        "    weights = self.model.get_weights()\n",
        "    target_weights = self.target_model.get_weights()\n",
        "    for i in range(len(target_weights)):\n",
        "      target_weights[i] = weights[i]\n",
        "    self.target_model.set_weights(target_weights)\n",
        " \n",
        "  def act(self, state):\n",
        "    self.epsilon *= self.epsilon_decay\n",
        "    self.epsilon = max(self.epsilon_min, self.epsilon)\n",
        "    if np.random.random() < self.epsilon:\n",
        "      return self.env.action_space.sample()\n",
        "    return np.argmax(self.model.predict(state)[0])\n",
        " \n",
        "  def save_model(self, filename='/gdrive/My Drive/Cartpole_files/model.h5'):\n",
        "    self.model.save(filename)\n",
        " \n",
        "  def load_model(self, filename):\n",
        "    self.model = load_model(filename, compile=True)"
      ],
      "execution_count": null,
      "outputs": []
    },
    {
      "cell_type": "code",
      "metadata": {
        "id": "lf5Z41TNwoDj",
        "colab_type": "code",
        "colab": {
          "base_uri": "https://localhost:8080/",
          "height": 54
        },
        "outputId": "7a55d1f0-4cc9-490c-c8f4-88876b5417ce"
      },
      "source": [
        "import gym\n",
        "from tqdm import tqdm\n",
        "import time\n",
        "import pandas as pd\n",
        " \n",
        "#initialize environment and agent\n",
        " \n",
        "env = gym.make('CartPole-v0')\n",
        "unda = env.reset()\n",
        " \n",
        "agent = DQNAgent(env)\n",
        " \n",
        "agent.load_model('/gdrive/My Drive/Cartpole_files/Sun Sep 13 12:03:57 2020.h5') #comment out these if not needed\n",
        "agent.epsilon = 0\n",
        " \n",
        "trials  = 200 #trials is no of episodes\n",
        "trial_len = 210 #no of steps to take\n",
        "total_score = []\n",
        "actions = []\n",
        "save_every = 30 #save stats to drive at every - steps\n",
        " \n",
        "#for logs\n",
        "logs = {'episode':[],\n",
        "        'score':[],\n",
        "        'epsilon':[]}\n",
        " \n",
        "for trail in tqdm(range(trials)):\n",
        "  cur_state = env.reset().reshape(1,len(unda))\n",
        "  score = 0\n",
        "  actions_trail = []\n",
        "  for step in (range(trial_len)):\n",
        "    action = agent.act(cur_state)\n",
        "    new_state, reward, done, _ = env.step(action)\n",
        " \n",
        "    actions_trail.append(action)\n",
        " \n",
        "    score += reward\n",
        "    new_state = new_state.reshape(1,len(unda))\n",
        "    agent.remember(cur_state, action, reward, new_state, done)\n",
        " \n",
        "    agent.replay()\n",
        "    agent.target_train()\n",
        " \n",
        "    cur_state = new_state\n",
        "    if done:\n",
        "      break\n",
        " \n",
        "  logs['episode'].append(trail)\n",
        "  logs['epsilon'].append(agent.epsilon)\n",
        "  logs['score'].append(score)\n",
        " \n",
        "  if (trail % save_every == 0):\n",
        " \n",
        "    file_name ='/gdrive/My Drive/Cartpole_files/' + time.asctime( time.localtime(time.time()) ) + '.npy'\n",
        "    np.save(file_name,actions)\n",
        "    file_name ='/gdrive/My Drive/Cartpole_files/' + time.asctime( time.localtime(time.time()) ) + '.h5'\n",
        "    agent.save_model(file_name)\n",
        " \n",
        "    file_name ='/gdrive/My Drive/Cartpole_files/' + time.asctime( time.localtime(time.time()) ) + '.csv'\n",
        "    df = pd.DataFrame(logs)\n",
        "    df.to_csv(file_name,index=False)\n",
        " \n",
        "  actions.append(actions_trail)\n",
        "  total_score.append(score)\n",
        "  avgs = sum(total_score[-100:])/100\n",
        "  if avgs >= 195:\n",
        "    print('done')\n",
        "    break\n",
        " \n",
        "actions = np.array(actions)\n",
        "np.save('/gdrive/My Drive/Cartpole_files/actions200final.npy',actions)\n",
        "agent.save_model()"
      ],
      "execution_count": null,
      "outputs": [
        {
          "output_type": "stream",
          "text": [
            " 52%|█████▏    | 104/200 [6:11:06<4:05:59, 153.74s/it]"
          ],
          "name": "stderr"
        }
      ]
    },
    {
      "cell_type": "code",
      "metadata": {
        "id": "LZgKw1oU55qI",
        "colab_type": "code",
        "colab": {
          "base_uri": "https://localhost:8080/",
          "height": 34
        },
        "outputId": "7c0097b6-b35e-4c96-ce64-e7bce61a8ee5"
      },
      "source": [
        "print(total_score)"
      ],
      "execution_count": null,
      "outputs": [
        {
          "output_type": "stream",
          "text": [
            "[9.0, 17.0]\n"
          ],
          "name": "stdout"
        }
      ]
    },
    {
      "cell_type": "code",
      "metadata": {
        "id": "EB-GnLftqsHc",
        "colab_type": "code",
        "colab": {}
      },
      "source": [
        "test = []\n",
        "for i in range(30*500):\n",
        "  test.append(i)\n",
        "test = np.array(test)\n",
        "np.save('/tmp/test.npy',test)"
      ],
      "execution_count": null,
      "outputs": []
    },
    {
      "cell_type": "code",
      "metadata": {
        "id": "XGozY_r-_pDZ",
        "colab_type": "code",
        "colab": {
          "base_uri": "https://localhost:8080/",
          "height": 34
        },
        "outputId": "3a674ba1-610a-4f72-cd63-6297b539cb5d"
      },
      "source": [
        "aaaa = np.load('/gdrive/My Drive/Cartpole_files/actions2.npy', allow_pickle=True)\n",
        "print(len(aaaa[24]))"
      ],
      "execution_count": null,
      "outputs": [
        {
          "output_type": "stream",
          "text": [
            "200\n"
          ],
          "name": "stdout"
        }
      ]
    },
    {
      "cell_type": "markdown",
      "metadata": {
        "id": "2UWIgXSQfdNf",
        "colab_type": "text"
      },
      "source": [
        "# Tf-agents\n",
        "its not mine its not completed just copied it for some testing"
      ]
    },
    {
      "cell_type": "code",
      "metadata": {
        "id": "ERU5bTGIfb2y",
        "colab_type": "code",
        "colab": {
          "base_uri": "https://localhost:8080/",
          "height": 302
        },
        "outputId": "39a4b45c-e44f-4af9-9b0e-bb9a6ae822ea"
      },
      "source": [
        "!pip install tf-agents"
      ],
      "execution_count": null,
      "outputs": [
        {
          "output_type": "stream",
          "text": [
            "Collecting tf-agents\n",
            "\u001b[?25l  Downloading https://files.pythonhosted.org/packages/7c/77/df0c0ca6f0b1a59b812d81d7737d8ea2a95d8716f9ffc1a68822531b78fb/tf_agents-0.6.0-py3-none-any.whl (1.1MB)\n",
            "\r\u001b[K     |▎                               | 10kB 18.8MB/s eta 0:00:01\r\u001b[K     |▋                               | 20kB 1.7MB/s eta 0:00:01\r\u001b[K     |█                               | 30kB 2.3MB/s eta 0:00:01\r\u001b[K     |█▏                              | 40kB 2.5MB/s eta 0:00:01\r\u001b[K     |█▌                              | 51kB 2.0MB/s eta 0:00:01\r\u001b[K     |█▉                              | 61kB 2.3MB/s eta 0:00:01\r\u001b[K     |██                              | 71kB 2.5MB/s eta 0:00:01\r\u001b[K     |██▍                             | 81kB 2.7MB/s eta 0:00:01\r\u001b[K     |██▊                             | 92kB 2.9MB/s eta 0:00:01\r\u001b[K     |███                             | 102kB 2.8MB/s eta 0:00:01\r\u001b[K     |███▎                            | 112kB 2.8MB/s eta 0:00:01\r\u001b[K     |███▋                            | 122kB 2.8MB/s eta 0:00:01\r\u001b[K     |████                            | 133kB 2.8MB/s eta 0:00:01\r\u001b[K     |████▏                           | 143kB 2.8MB/s eta 0:00:01\r\u001b[K     |████▌                           | 153kB 2.8MB/s eta 0:00:01\r\u001b[K     |████▉                           | 163kB 2.8MB/s eta 0:00:01\r\u001b[K     |█████                           | 174kB 2.8MB/s eta 0:00:01\r\u001b[K     |█████▍                          | 184kB 2.8MB/s eta 0:00:01\r\u001b[K     |█████▊                          | 194kB 2.8MB/s eta 0:00:01\r\u001b[K     |██████                          | 204kB 2.8MB/s eta 0:00:01\r\u001b[K     |██████▎                         | 215kB 2.8MB/s eta 0:00:01\r\u001b[K     |██████▋                         | 225kB 2.8MB/s eta 0:00:01\r\u001b[K     |███████                         | 235kB 2.8MB/s eta 0:00:01\r\u001b[K     |███████▏                        | 245kB 2.8MB/s eta 0:00:01\r\u001b[K     |███████▌                        | 256kB 2.8MB/s eta 0:00:01\r\u001b[K     |███████▉                        | 266kB 2.8MB/s eta 0:00:01\r\u001b[K     |████████                        | 276kB 2.8MB/s eta 0:00:01\r\u001b[K     |████████▍                       | 286kB 2.8MB/s eta 0:00:01\r\u001b[K     |████████▊                       | 296kB 2.8MB/s eta 0:00:01\r\u001b[K     |█████████                       | 307kB 2.8MB/s eta 0:00:01\r\u001b[K     |█████████▎                      | 317kB 2.8MB/s eta 0:00:01\r\u001b[K     |█████████▋                      | 327kB 2.8MB/s eta 0:00:01\r\u001b[K     |█████████▉                      | 337kB 2.8MB/s eta 0:00:01\r\u001b[K     |██████████▏                     | 348kB 2.8MB/s eta 0:00:01\r\u001b[K     |██████████▌                     | 358kB 2.8MB/s eta 0:00:01\r\u001b[K     |██████████▉                     | 368kB 2.8MB/s eta 0:00:01\r\u001b[K     |███████████                     | 378kB 2.8MB/s eta 0:00:01\r\u001b[K     |███████████▍                    | 389kB 2.8MB/s eta 0:00:01\r\u001b[K     |███████████▊                    | 399kB 2.8MB/s eta 0:00:01\r\u001b[K     |████████████                    | 409kB 2.8MB/s eta 0:00:01\r\u001b[K     |████████████▎                   | 419kB 2.8MB/s eta 0:00:01\r\u001b[K     |████████████▋                   | 430kB 2.8MB/s eta 0:00:01\r\u001b[K     |████████████▉                   | 440kB 2.8MB/s eta 0:00:01\r\u001b[K     |█████████████▏                  | 450kB 2.8MB/s eta 0:00:01\r\u001b[K     |█████████████▌                  | 460kB 2.8MB/s eta 0:00:01\r\u001b[K     |█████████████▉                  | 471kB 2.8MB/s eta 0:00:01\r\u001b[K     |██████████████                  | 481kB 2.8MB/s eta 0:00:01\r\u001b[K     |██████████████▍                 | 491kB 2.8MB/s eta 0:00:01\r\u001b[K     |██████████████▊                 | 501kB 2.8MB/s eta 0:00:01\r\u001b[K     |███████████████                 | 512kB 2.8MB/s eta 0:00:01\r\u001b[K     |███████████████▎                | 522kB 2.8MB/s eta 0:00:01\r\u001b[K     |███████████████▋                | 532kB 2.8MB/s eta 0:00:01\r\u001b[K     |███████████████▉                | 542kB 2.8MB/s eta 0:00:01\r\u001b[K     |████████████████▏               | 552kB 2.8MB/s eta 0:00:01\r\u001b[K     |████████████████▌               | 563kB 2.8MB/s eta 0:00:01\r\u001b[K     |████████████████▊               | 573kB 2.8MB/s eta 0:00:01\r\u001b[K     |█████████████████               | 583kB 2.8MB/s eta 0:00:01\r\u001b[K     |█████████████████▍              | 593kB 2.8MB/s eta 0:00:01\r\u001b[K     |█████████████████▊              | 604kB 2.8MB/s eta 0:00:01\r\u001b[K     |██████████████████              | 614kB 2.8MB/s eta 0:00:01\r\u001b[K     |██████████████████▎             | 624kB 2.8MB/s eta 0:00:01\r\u001b[K     |██████████████████▋             | 634kB 2.8MB/s eta 0:00:01\r\u001b[K     |██████████████████▉             | 645kB 2.8MB/s eta 0:00:01\r\u001b[K     |███████████████████▏            | 655kB 2.8MB/s eta 0:00:01\r\u001b[K     |███████████████████▌            | 665kB 2.8MB/s eta 0:00:01\r\u001b[K     |███████████████████▊            | 675kB 2.8MB/s eta 0:00:01\r\u001b[K     |████████████████████            | 686kB 2.8MB/s eta 0:00:01\r\u001b[K     |████████████████████▍           | 696kB 2.8MB/s eta 0:00:01\r\u001b[K     |████████████████████▊           | 706kB 2.8MB/s eta 0:00:01\r\u001b[K     |█████████████████████           | 716kB 2.8MB/s eta 0:00:01\r\u001b[K     |█████████████████████▎          | 727kB 2.8MB/s eta 0:00:01\r\u001b[K     |█████████████████████▋          | 737kB 2.8MB/s eta 0:00:01\r\u001b[K     |█████████████████████▉          | 747kB 2.8MB/s eta 0:00:01\r\u001b[K     |██████████████████████▏         | 757kB 2.8MB/s eta 0:00:01\r\u001b[K     |██████████████████████▌         | 768kB 2.8MB/s eta 0:00:01\r\u001b[K     |██████████████████████▊         | 778kB 2.8MB/s eta 0:00:01\r\u001b[K     |███████████████████████         | 788kB 2.8MB/s eta 0:00:01\r\u001b[K     |███████████████████████▍        | 798kB 2.8MB/s eta 0:00:01\r\u001b[K     |███████████████████████▋        | 808kB 2.8MB/s eta 0:00:01\r\u001b[K     |████████████████████████        | 819kB 2.8MB/s eta 0:00:01\r\u001b[K     |████████████████████████▎       | 829kB 2.8MB/s eta 0:00:01\r\u001b[K     |████████████████████████▋       | 839kB 2.8MB/s eta 0:00:01\r\u001b[K     |████████████████████████▉       | 849kB 2.8MB/s eta 0:00:01\r\u001b[K     |█████████████████████████▏      | 860kB 2.8MB/s eta 0:00:01\r\u001b[K     |█████████████████████████▌      | 870kB 2.8MB/s eta 0:00:01\r\u001b[K     |█████████████████████████▊      | 880kB 2.8MB/s eta 0:00:01\r\u001b[K     |██████████████████████████      | 890kB 2.8MB/s eta 0:00:01\r\u001b[K     |██████████████████████████▍     | 901kB 2.8MB/s eta 0:00:01\r\u001b[K     |██████████████████████████▋     | 911kB 2.8MB/s eta 0:00:01\r\u001b[K     |███████████████████████████     | 921kB 2.8MB/s eta 0:00:01\r\u001b[K     |███████████████████████████▎    | 931kB 2.8MB/s eta 0:00:01\r\u001b[K     |███████████████████████████▋    | 942kB 2.8MB/s eta 0:00:01\r\u001b[K     |███████████████████████████▉    | 952kB 2.8MB/s eta 0:00:01\r\u001b[K     |████████████████████████████▏   | 962kB 2.8MB/s eta 0:00:01\r\u001b[K     |████████████████████████████▌   | 972kB 2.8MB/s eta 0:00:01\r\u001b[K     |████████████████████████████▊   | 983kB 2.8MB/s eta 0:00:01\r\u001b[K     |█████████████████████████████   | 993kB 2.8MB/s eta 0:00:01\r\u001b[K     |█████████████████████████████▍  | 1.0MB 2.8MB/s eta 0:00:01\r\u001b[K     |█████████████████████████████▋  | 1.0MB 2.8MB/s eta 0:00:01\r\u001b[K     |██████████████████████████████  | 1.0MB 2.8MB/s eta 0:00:01\r\u001b[K     |██████████████████████████████▎ | 1.0MB 2.8MB/s eta 0:00:01\r\u001b[K     |██████████████████████████████▌ | 1.0MB 2.8MB/s eta 0:00:01\r\u001b[K     |██████████████████████████████▉ | 1.1MB 2.8MB/s eta 0:00:01\r\u001b[K     |███████████████████████████████▏| 1.1MB 2.8MB/s eta 0:00:01\r\u001b[K     |███████████████████████████████▌| 1.1MB 2.8MB/s eta 0:00:01\r\u001b[K     |███████████████████████████████▊| 1.1MB 2.8MB/s eta 0:00:01\r\u001b[K     |████████████████████████████████| 1.1MB 2.8MB/s \n",
            "\u001b[?25hRequirement already satisfied: six>=1.10.0 in /usr/local/lib/python3.6/dist-packages (from tf-agents) (1.15.0)\n",
            "Requirement already satisfied: absl-py>=0.6.1 in /usr/local/lib/python3.6/dist-packages (from tf-agents) (0.10.0)\n",
            "Requirement already satisfied: tensorflow-probability>=0.11.0 in /usr/local/lib/python3.6/dist-packages (from tf-agents) (0.11.0)\n",
            "Requirement already satisfied: gin-config>=0.3.0 in /usr/local/lib/python3.6/dist-packages (from tf-agents) (0.3.0)\n",
            "Requirement already satisfied: protobuf>=3.11.3 in /usr/local/lib/python3.6/dist-packages (from tf-agents) (3.12.4)\n",
            "Requirement already satisfied: wrapt>=1.11.1 in /usr/local/lib/python3.6/dist-packages (from tf-agents) (1.12.1)\n",
            "Requirement already satisfied: cloudpickle==1.3 in /usr/local/lib/python3.6/dist-packages (from tf-agents) (1.3.0)\n",
            "Requirement already satisfied: numpy>=1.13.3 in /usr/local/lib/python3.6/dist-packages (from tf-agents) (1.18.5)\n",
            "Requirement already satisfied: gast>=0.3.2 in /usr/local/lib/python3.6/dist-packages (from tensorflow-probability>=0.11.0->tf-agents) (0.3.3)\n",
            "Requirement already satisfied: dm-tree in /usr/local/lib/python3.6/dist-packages (from tensorflow-probability>=0.11.0->tf-agents) (0.1.5)\n",
            "Requirement already satisfied: decorator in /usr/local/lib/python3.6/dist-packages (from tensorflow-probability>=0.11.0->tf-agents) (4.4.2)\n",
            "Requirement already satisfied: setuptools in /usr/local/lib/python3.6/dist-packages (from protobuf>=3.11.3->tf-agents) (50.3.0)\n",
            "Installing collected packages: tf-agents\n",
            "Successfully installed tf-agents-0.6.0\n"
          ],
          "name": "stdout"
        }
      ]
    },
    {
      "cell_type": "code",
      "metadata": {
        "id": "ZvQThf46glj7",
        "colab_type": "code",
        "colab": {}
      },
      "source": [
        "from __future__ import absolute_import\n",
        "from __future__ import division\n",
        "from __future__ import print_function\n",
        "\n",
        "import tensorflow as tf\n",
        "\n",
        "from tf_agents.agents.categorical_dqn import categorical_dqn_agent\n",
        "from tf_agents.drivers import dynamic_step_driver\n",
        "from tf_agents.environments import suite_gym\n",
        "from tf_agents.environments import tf_py_environment\n",
        "from tf_agents.eval import metric_utils\n",
        "from tf_agents.metrics import tf_metrics\n",
        "from tf_agents.networks import categorical_q_network\n",
        "from tf_agents.policies import random_tf_policy\n",
        "from tf_agents.replay_buffers import tf_uniform_replay_buffer\n",
        "from tf_agents.trajectories import trajectory\n",
        "from tf_agents.utils import common\n",
        "\n",
        "tf.compat.v1.enable_v2_behavior()"
      ],
      "execution_count": null,
      "outputs": []
    },
    {
      "cell_type": "code",
      "metadata": {
        "id": "vN3PVSUygww3",
        "colab_type": "code",
        "colab": {}
      },
      "source": [
        "env_name = \"CartPole-v1\" # @param {type:\"string\"}\n",
        "num_iterations = 15000 # @param {type:\"integer\"}\n",
        "\n",
        "initial_collect_steps = 1000  # @param {type:\"integer\"} \n",
        "collect_steps_per_iteration = 1  # @param {type:\"integer\"}\n",
        "replay_buffer_capacity = 100000  # @param {type:\"integer\"}\n",
        "\n",
        "fc_layer_params = (100,)\n",
        "\n",
        "batch_size = 64  # @param {type:\"integer\"}\n",
        "learning_rate = 1e-3  # @param {type:\"number\"}\n",
        "gamma = 0.99\n",
        "log_interval = 200  # @param {type:\"integer\"}\n",
        "\n",
        "num_atoms = 51  # @param {type:\"integer\"}\n",
        "min_q_value = -20  # @param {type:\"integer\"}\n",
        "max_q_value = 20  # @param {type:\"integer\"}\n",
        "n_step_update = 2  # @param {type:\"integer\"}\n",
        "\n",
        "num_eval_episodes = 10  # @param {type:\"integer\"}\n",
        "eval_interval = 1000  # @param {type:\"integer\"}"
      ],
      "execution_count": null,
      "outputs": []
    },
    {
      "cell_type": "code",
      "metadata": {
        "id": "jAxECuSFgr8f",
        "colab_type": "code",
        "colab": {}
      },
      "source": [
        "train_py_env = suite_gym.load(env_name)\n",
        "eval_py_env = suite_gym.load(env_name)\n",
        "\n",
        "train_env = tf_py_environment.TFPyEnvironment(train_py_env)\n",
        "eval_env = tf_py_environment.TFPyEnvironment(eval_py_env)"
      ],
      "execution_count": null,
      "outputs": []
    },
    {
      "cell_type": "code",
      "metadata": {
        "id": "-sKKibgJhFdO",
        "colab_type": "code",
        "colab": {}
      },
      "source": [
        "categorical_q_net = categorical_q_network.CategoricalQNetwork(\n",
        "    train_env.observation_spec(),\n",
        "    train_env.action_spec(),\n",
        "    num_atoms=num_atoms,\n",
        "    fc_layer_params=fc_layer_params)"
      ],
      "execution_count": null,
      "outputs": []
    },
    {
      "cell_type": "code",
      "metadata": {
        "id": "RictiPyrg84j",
        "colab_type": "code",
        "colab": {}
      },
      "source": [
        "optimizer = tf.compat.v1.train.AdamOptimizer(learning_rate=learning_rate)\n",
        "\n",
        "train_step_counter = tf.compat.v2.Variable(0)\n",
        "\n",
        "agent = categorical_dqn_agent.CategoricalDqnAgent(\n",
        "    train_env.time_step_spec(),\n",
        "    train_env.action_spec(),\n",
        "    categorical_q_network=categorical_q_net,\n",
        "    optimizer=optimizer,\n",
        "    min_q_value=min_q_value,\n",
        "    max_q_value=max_q_value,\n",
        "    n_step_update=n_step_update,\n",
        "    td_errors_loss_fn=common.element_wise_squared_loss,\n",
        "    gamma=gamma,\n",
        "    train_step_counter=train_step_counter)\n",
        "agent.initialize()"
      ],
      "execution_count": null,
      "outputs": []
    },
    {
      "cell_type": "code",
      "metadata": {
        "id": "urCw6pnMhr2L",
        "colab_type": "code",
        "colab": {
          "base_uri": "https://localhost:8080/",
          "height": 34
        },
        "outputId": "b3959cd4-c351-41d2-eba2-1a5f06888934"
      },
      "source": [
        "def compute_avg_return(environment, policy, num_episodes=10):\n",
        "\n",
        "  total_return = 0.0\n",
        "  for _ in range(num_episodes):\n",
        "\n",
        "    time_step = environment.reset()\n",
        "    episode_return = 0.0\n",
        "\n",
        "    while not time_step.is_last():\n",
        "      action_step = policy.action(time_step)\n",
        "      time_step = environment.step(action_step.action)\n",
        "      episode_return += time_step.reward\n",
        "    total_return += episode_return\n",
        "\n",
        "  avg_return = total_return / num_episodes\n",
        "  return avg_return.numpy()[0]\n",
        "\n",
        "\n",
        "random_policy = random_tf_policy.RandomTFPolicy(train_env.time_step_spec(),\n",
        "                                                train_env.action_spec())\n",
        "\n",
        "compute_avg_return(eval_env, random_policy, num_eval_episodes)"
      ],
      "execution_count": null,
      "outputs": [
        {
          "output_type": "execute_result",
          "data": {
            "text/plain": [
              "25.9"
            ]
          },
          "metadata": {
            "tags": []
          },
          "execution_count": 10
        }
      ]
    },
    {
      "cell_type": "code",
      "metadata": {
        "id": "IoqprVHAifWn",
        "colab_type": "code",
        "colab": {}
      },
      "source": [
        "#@test {\"skip\": true}\n",
        "replay_buffer = tf_uniform_replay_buffer.TFUniformReplayBuffer(\n",
        "    data_spec=agent.collect_data_spec,\n",
        "    batch_size=train_env.batch_size,\n",
        "    max_length=replay_buffer_capacity)\n",
        "\n",
        "def collect_step(environment, policy):\n",
        "  time_step = environment.current_time_step()\n",
        "  action_step = policy.action(time_step)\n",
        "  next_time_step = environment.step(action_step.action)\n",
        "  traj = trajectory.from_transition(time_step, action_step, next_time_step)\n",
        "\n",
        "  # Add trajectory to the replay buffer\n",
        "  replay_buffer.add_batch(traj)\n",
        "\n",
        "for _ in range(initial_collect_steps):\n",
        "  collect_step(train_env, random_policy)\n",
        "\n",
        "# This loop is so common in RL, that we provide standard implementations of\n",
        "# these. For more details see the drivers module.\n",
        "\n",
        "# Dataset generates trajectories with shape [BxTx...] where\n",
        "# T = n_step_update + 1.\n",
        "dataset = replay_buffer.as_dataset(\n",
        "    num_parallel_calls=3, sample_batch_size=batch_size,\n",
        "    num_steps=n_step_update + 1).prefetch(3)\n",
        "\n",
        "iterator = iter(dataset)"
      ],
      "execution_count": null,
      "outputs": []
    }
  ]
}